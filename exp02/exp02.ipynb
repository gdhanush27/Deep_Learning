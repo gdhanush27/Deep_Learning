{
 "cells": [
  {
   "cell_type": "markdown",
   "id": "685f332b",
   "metadata": {},
   "source": [
    "# Importing Module"
   ]
  },
  {
   "cell_type": "code",
   "execution_count": null,
   "id": "6f912e0d",
   "metadata": {},
   "outputs": [],
   "source": [
    "from sklearn.datasets import make_classification\n",
    "import pandas as pd\n",
    "import numpy as np\n",
    "from collections import Counter\n",
    "import matplotlib.pyplot as plt\n",
    "import seaborn as sns"
   ]
  },
  {
   "cell_type": "code",
   "execution_count": 9,
   "id": "0ff2cfaa",
   "metadata": {
    "collapsed": true
   },
   "outputs": [
    {
     "name": "stderr",
     "output_type": "stream",
     "text": [
      "WARNING: Certificate did not match expected hostname: pypi.org. Certificate: {'subject': ((('commonName', '*.kongu.edu'),),), 'issuer': ((('countryName', 'US'),), (('stateOrProvinceName', 'Arizona'),), (('localityName', 'Scottsdale'),), (('organizationName', 'GoDaddy.com, Inc.'),), (('organizationalUnitName', 'http://certs.godaddy.com/repository/'),), (('commonName', 'Go Daddy Secure Certificate Authority - G2'),)), 'version': 3, 'serialNumber': '41C805A2F54C364B', 'notBefore': 'Sep 19 09:13:57 2022 GMT', 'notAfter': 'Oct 21 09:13:57 2023 GMT', 'subjectAltName': (('DNS', '*.kongu.edu'), ('DNS', 'kongu.edu')), 'OCSP': ('http://ocsp.godaddy.com/',), 'caIssuers': ('http://certificates.godaddy.com/repository/gdig2.crt',), 'crlDistributionPoints': ('http://crl.godaddy.com/gdig2s1-4521.crl',)}\n",
      "WARNING: Retrying (Retry(total=4, connect=None, read=None, redirect=None, status=None)) after connection broken by 'SSLError(SSLCertVerificationError(\"hostname 'pypi.org' doesn't match either of '*.kongu.edu', 'kongu.edu'\"))': /simple/sklearn/\n",
      "WARNING: Certificate did not match expected hostname: pypi.org. Certificate: {'subject': ((('commonName', '*.kongu.edu'),),), 'issuer': ((('countryName', 'US'),), (('stateOrProvinceName', 'Arizona'),), (('localityName', 'Scottsdale'),), (('organizationName', 'GoDaddy.com, Inc.'),), (('organizationalUnitName', 'http://certs.godaddy.com/repository/'),), (('commonName', 'Go Daddy Secure Certificate Authority - G2'),)), 'version': 3, 'serialNumber': '41C805A2F54C364B', 'notBefore': 'Sep 19 09:13:57 2022 GMT', 'notAfter': 'Oct 21 09:13:57 2023 GMT', 'subjectAltName': (('DNS', '*.kongu.edu'), ('DNS', 'kongu.edu')), 'OCSP': ('http://ocsp.godaddy.com/',), 'caIssuers': ('http://certificates.godaddy.com/repository/gdig2.crt',), 'crlDistributionPoints': ('http://crl.godaddy.com/gdig2s1-4521.crl',)}\n",
      "WARNING: Retrying (Retry(total=3, connect=None, read=None, redirect=None, status=None)) after connection broken by 'SSLError(SSLCertVerificationError(\"hostname 'pypi.org' doesn't match either of '*.kongu.edu', 'kongu.edu'\"))': /simple/sklearn/\n",
      "WARNING: Certificate did not match expected hostname: pypi.org. Certificate: {'subject': ((('commonName', '*.kongu.edu'),),), 'issuer': ((('countryName', 'US'),), (('stateOrProvinceName', 'Arizona'),), (('localityName', 'Scottsdale'),), (('organizationName', 'GoDaddy.com, Inc.'),), (('organizationalUnitName', 'http://certs.godaddy.com/repository/'),), (('commonName', 'Go Daddy Secure Certificate Authority - G2'),)), 'version': 3, 'serialNumber': '41C805A2F54C364B', 'notBefore': 'Sep 19 09:13:57 2022 GMT', 'notAfter': 'Oct 21 09:13:57 2023 GMT', 'subjectAltName': (('DNS', '*.kongu.edu'), ('DNS', 'kongu.edu')), 'OCSP': ('http://ocsp.godaddy.com/',), 'caIssuers': ('http://certificates.godaddy.com/repository/gdig2.crt',), 'crlDistributionPoints': ('http://crl.godaddy.com/gdig2s1-4521.crl',)}\n",
      "WARNING: Retrying (Retry(total=2, connect=None, read=None, redirect=None, status=None)) after connection broken by 'SSLError(SSLCertVerificationError(\"hostname 'pypi.org' doesn't match either of '*.kongu.edu', 'kongu.edu'\"))': /simple/sklearn/\n",
      "WARNING: Retrying (Retry(total=1, connect=None, read=None, redirect=None, status=None)) after connection broken by 'SSLError(SSLEOFError(8, 'EOF occurred in violation of protocol (_ssl.c:1129)'))': /simple/sklearn/\n",
      "WARNING: Certificate did not match expected hostname: pypi.org. Certificate: {'subject': ((('commonName', '*.kongu.edu'),),), 'issuer': ((('countryName', 'US'),), (('stateOrProvinceName', 'Arizona'),), (('localityName', 'Scottsdale'),), (('organizationName', 'GoDaddy.com, Inc.'),), (('organizationalUnitName', 'http://certs.godaddy.com/repository/'),), (('commonName', 'Go Daddy Secure Certificate Authority - G2'),)), 'version': 3, 'serialNumber': '41C805A2F54C364B', 'notBefore': 'Sep 19 09:13:57 2022 GMT', 'notAfter': 'Oct 21 09:13:57 2023 GMT', 'subjectAltName': (('DNS', '*.kongu.edu'), ('DNS', 'kongu.edu')), 'OCSP': ('http://ocsp.godaddy.com/',), 'caIssuers': ('http://certificates.godaddy.com/repository/gdig2.crt',), 'crlDistributionPoints': ('http://crl.godaddy.com/gdig2s1-4521.crl',)}\n",
      "WARNING: Retrying (Retry(total=0, connect=None, read=None, redirect=None, status=None)) after connection broken by 'SSLError(SSLCertVerificationError(\"hostname 'pypi.org' doesn't match either of '*.kongu.edu', 'kongu.edu'\"))': /simple/sklearn/\n",
      "ERROR: Could not find a version that satisfies the requirement sklearn (from versions: none)\n",
      "ERROR: No matching distribution found for sklearn\n"
     ]
    },
    {
     "name": "stdout",
     "output_type": "stream",
     "text": [
      "Defaulting to user installation because normal site-packages is not writeable\n",
      "Could not fetch URL https://pypi.org/simple/sklearn/: There was a problem confirming the ssl certificate: HTTPSConnectionPool(host='pypi.org', port=443): Max retries exceeded with url: /simple/sklearn/ (Caused by SSLError(SSLEOFError(8, 'EOF occurred in violation of protocol (_ssl.c:1129)'))) - skipping\n"
     ]
    }
   ],
   "source": [
    "from sklearn.datasets import make_classification\n",
    "from sklearn.model_selection import train_test_split\n",
    "import tensorflow as tf\n",
    "from tensorflow.keras import layers, losses\n",
    "from sklearn.metrics import classification_report "
   ]
  },
  {
   "cell_type": "markdown",
   "id": "66104f80",
   "metadata": {},
   "source": [
    "# Data Pre-processing"
   ]
  },
  {
   "cell_type": "code",
   "execution_count": 10,
   "id": "ab22fa6f",
   "metadata": {},
   "outputs": [],
   "source": [
    "X, y = make_classification(n_samples=100000, n_features=32,n_informative=32,n_redundant=0, n_repeated=0, n_classes=2,n_clusters_per_class=1,weights=[0.995, 0.005],class_sep=0.5, random_state=0)\n"
   ]
  },
  {
   "cell_type": "code",
   "execution_count": 11,
   "id": "13709d60",
   "metadata": {},
   "outputs": [],
   "source": [
    "X_train, X_test, y_train, y_test = train_test_split(X, y,test_size=0.2, random_state=42)"
   ]
  },
  {
   "cell_type": "code",
   "execution_count": 15,
   "id": "7fe6601e",
   "metadata": {},
   "outputs": [
    {
     "name": "stdout",
     "output_type": "stream",
     "text": [
      "The number of records in the training dataset is 80000\n",
      "The number of records in the test dataset is 20000\n"
     ]
    }
   ],
   "source": [
    "print(\"The number of records in the training dataset is\",X_train.shape[0])\n",
    "print(\"The number of records in the test dataset is\",X_test.shape[0])"
   ]
  },
  {
   "cell_type": "markdown",
   "id": "bc9cc3c7",
   "metadata": {},
   "source": [
    "# Encoder and Decoder declare"
   ]
  },
  {
   "cell_type": "code",
   "execution_count": 19,
   "id": "eb968b5a",
   "metadata": {},
   "outputs": [],
   "source": [
    "X_train_normal = X_train[np.where(y_train == 0)]\n",
    "input = tf.keras.layers.Input(shape=(32,))# Encoder layers\n",
    "encoder = tf.keras.Sequential([layers.Dense(16, activation=\"relu\"),layers.Dense(8, activation='relu'),layers.Dense(4, activation='relu')])(input)\n",
    "decoder = tf.keras.Sequential([layers.Dense(8, activation='relu'),layers.Dense(16, activation='relu'),layers.Dense(32, activation='sigmoid')])(encoder)\n",
    "autoencoder = tf.keras.Model(inputs=input, outputs=decoder)"
   ]
  },
  {
   "cell_type": "markdown",
   "id": "37d20eac",
   "metadata": {},
   "source": [
    "# Compile the model"
   ]
  },
  {
   "cell_type": "code",
   "execution_count": 20,
   "id": "9fb38856",
   "metadata": {},
   "outputs": [
    {
     "name": "stdout",
     "output_type": "stream",
     "text": [
      "Epoch 1/20\n",
      "1238/1238 [==============================] - 2s 972us/step - loss: 2.5357 - val_loss: 2.5040\n",
      "Epoch 2/20\n",
      "1238/1238 [==============================] - 1s 848us/step - loss: 2.4916 - val_loss: 2.4885\n",
      "Epoch 3/20\n",
      "1238/1238 [==============================] - 1s 806us/step - loss: 2.4798 - val_loss: 2.4798\n",
      "Epoch 4/20\n",
      "1238/1238 [==============================] - 1s 824us/step - loss: 2.4729 - val_loss: 2.4755\n",
      "Epoch 5/20\n",
      "1238/1238 [==============================] - 1s 831us/step - loss: 2.4692 - val_loss: 2.4716\n",
      "Epoch 6/20\n",
      "1238/1238 [==============================] - 1s 807us/step - loss: 2.4670 - val_loss: 2.4699\n",
      "Epoch 7/20\n",
      "1238/1238 [==============================] - 1s 795us/step - loss: 2.4654 - val_loss: 2.4690\n",
      "Epoch 8/20\n",
      "1238/1238 [==============================] - 1s 818us/step - loss: 2.4640 - val_loss: 2.4672\n",
      "Epoch 9/20\n",
      "1238/1238 [==============================] - 1s 799us/step - loss: 2.4627 - val_loss: 2.4659\n",
      "Epoch 10/20\n",
      "1238/1238 [==============================] - 1s 784us/step - loss: 2.4613 - val_loss: 2.4644\n",
      "Epoch 11/20\n",
      "1238/1238 [==============================] - 1s 783us/step - loss: 2.4602 - val_loss: 2.4634\n",
      "Epoch 12/20\n",
      "1238/1238 [==============================] - 1s 788us/step - loss: 2.4592 - val_loss: 2.4622\n",
      "Epoch 13/20\n",
      "1238/1238 [==============================] - 1s 789us/step - loss: 2.4583 - val_loss: 2.4614\n",
      "Epoch 14/20\n",
      "1238/1238 [==============================] - 1s 795us/step - loss: 2.4574 - val_loss: 2.4609\n",
      "Epoch 15/20\n",
      "1238/1238 [==============================] - 1s 815us/step - loss: 2.4564 - val_loss: 2.4597\n",
      "Epoch 16/20\n",
      "1238/1238 [==============================] - 1s 801us/step - loss: 2.4555 - val_loss: 2.4594\n",
      "Epoch 17/20\n",
      "1238/1238 [==============================] - 1s 786us/step - loss: 2.4547 - val_loss: 2.4580\n",
      "Epoch 18/20\n",
      "1238/1238 [==============================] - 1s 796us/step - loss: 2.4541 - val_loss: 2.4576\n",
      "Epoch 19/20\n",
      "1238/1238 [==============================] - 1s 815us/step - loss: 2.4534 - val_loss: 2.4569\n",
      "Epoch 20/20\n",
      "1238/1238 [==============================] - 1s 816us/step - loss: 2.4529 - val_loss: 2.4564\n"
     ]
    }
   ],
   "source": [
    "autoencoder.compile(optimizer='adam', loss='mae')\n",
    "history = autoencoder.fit(X_train_normal, X_train_normal,epochs=20,batch_size=64,validation_data=(X_test, X_test),shuffle=True)"
   ]
  },
  {
   "cell_type": "markdown",
   "id": "0c6f32b9",
   "metadata": {},
   "source": [
    "# Visulaization"
   ]
  },
  {
   "cell_type": "code",
   "execution_count": 21,
   "id": "80ebd3f2",
   "metadata": {},
   "outputs": [
    {
     "data": {
      "text/plain": [
       "<matplotlib.legend.Legend at 0x191efc8b490>"
      ]
     },
     "execution_count": 21,
     "metadata": {},
     "output_type": "execute_result"
    },
    {
     "data": {
      "image/png": "[encoded data removed]",
      "text/plain": [
       "<Figure size 432x288 with 1 Axes>"
      ]
     },
     "metadata": {
      "needs_background": "light"
     },
     "output_type": "display_data"
    }
   ],
   "source": [
    "plt.plot(history.history['loss'], label='Training  Loss')\n",
    "plt.plot(history.history['val_loss'], label='Validation Loss')\n",
    "plt.legend()"
   ]
  },
  {
   "cell_type": "code",
   "execution_count": 23,
   "id": "146be63e",
   "metadata": {},
   "outputs": [
    {
     "name": "stdout",
     "output_type": "stream",
     "text": [
      "625/625 [==============================] - 0s 494us/step\n",
      "The prediction loss threshold for 2% of outliers is 3.44\n"
     ]
    },
    {
     "data": {
      "text/plain": [
       "<AxesSubplot:ylabel='Count'>"
      ]
     },
     "execution_count": 23,
     "metadata": {},
     "output_type": "execute_result"
    },
    {
     "data": {
      "image/png": "[encoded data removed]",
      "text/plain": [
       "<Figure size 432x288 with 1 Axes>"
      ]
     },
     "metadata": {
      "needs_background": "light"
     },
     "output_type": "display_data"
    }
   ],
   "source": [
    "prediction = autoencoder.predict(X_test)\n",
    "prediction_loss = tf.keras.losses.mae(prediction, X_test)\n",
    "loss_threshold = np.percentile(prediction_loss, 98)\n",
    "print(f'The prediction loss threshold for 2% of outliers is {loss_threshold:.2f}')\n",
    "sns.histplot(prediction_loss, bins=30, alpha=0.8)"
   ]
  },
  {
   "cell_type": "markdown",
   "id": "6ddac03b",
   "metadata": {},
   "source": [
    "# Classification Report"
   ]
  },
  {
   "cell_type": "code",
   "execution_count": 28,
   "id": "3a29297e",
   "metadata": {},
   "outputs": [
    {
     "name": "stdout",
     "output_type": "stream",
     "text": [
      "              precision    recall  f1-score   support\n",
      "\n",
      "           0       0.99      0.98      0.98     19803\n",
      "           1       0.00      0.01      0.00       197\n",
      "\n",
      "    accuracy                           0.97     20000\n",
      "   macro avg       0.50      0.49      0.49     20000\n",
      "weighted avg       0.98      0.97      0.98     20000\n",
      "\n"
     ]
    }
   ],
   "source": [
    "threshold_prediction = [0 if i < loss_threshold else 1 for i in prediction_loss]\n",
    "print(classification_report(y_test, threshold_prediction))"
   ]
  }
 ],
 "metadata": {
  "colab": {
   "provenance": [
    {
     "file_id": "1GRGISB-IjDx116c9R3i5NYpfIWT017Jw",
     "timestamp": 1692650520905
    }
   ]
  },
  "kernelspec": {
   "display_name": "Python 3 (ipykernel)",
   "language": "python",
   "name": "python3"
  },
  "language_info": {
   "codemirror_mode": {
    "name": "ipython",
    "version": 3
   },
   "file_extension": ".py",
   "mimetype": "text/x-python",
   "name": "python",
   "nbconvert_exporter": "python",
   "pygments_lexer": "ipython3",
   "version": "3.9.12"
  }
 },
 "nbformat": 4,
 "nbformat_minor": 5
}
