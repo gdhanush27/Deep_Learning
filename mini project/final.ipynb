{
 "cells": [
  {
   "cell_type": "markdown",
   "id": "54050350",
   "metadata": {},
   "source": [
    "# Importing modules"
   ]
  },
  {
   "cell_type": "code",
   "execution_count": 1,
   "metadata": {},
   "outputs": [],
   "source": [
    "import glob\n",
    "import cv2\n",
    "import PIL\n",
    "import PIL.Image\n",
    "import matplotlib.pyplot as plt"
   ]
  },
  {
   "cell_type": "code",
   "execution_count": 2,
   "id": "99f0dea8",
   "metadata": {},
   "outputs": [],
   "source": [
    "import numpy as np\n",
    "import tensorflow as tf\n",
    "from tensorflow.keras.preprocessing import image\n",
    "from tensorflow.keras.preprocessing.image import ImageDataGenerator\n",
    "from tensorflow.keras.models import Sequential, Model\n",
    "from tensorflow.keras.layers import Conv2D, MaxPooling2D,Flatten, Dense, Dropout,BatchNormalization\n",
    "from tensorflow.keras import regularizers\n",
    "from tensorflow.keras.optimizers import Adam\n",
    "from tensorflow.keras.callbacks import EarlyStopping,ReduceLROnPlateau,TensorBoard"
   ]
  },
  {
   "cell_type": "markdown",
   "id": "cb7aa7ae",
   "metadata": {},
   "source": [
    "# Pre-processing"
   ]
  },
  {
   "cell_type": "code",
   "execution_count": 13,
   "id": "0181024f",
   "metadata": {},
   "outputs": [],
   "source": [
    "def process(filename, key, dest):\n",
    "    image = cv2.imread(filename)\n",
    "    gray_image = cv2.cvtColor(image, cv2.COLOR_BGR2GRAY)\n",
    "    blurred_image = cv2.GaussianBlur(gray_image, (7,7), 0)\n",
    "    canny = cv2.Canny(blurred_image, 10, 30)\n",
    "    cv2.imwrite( dest+'\\imageresized_{}.jpeg'.format(key) ,canny )"
   ]
  },
  {
   "cell_type": "code",
   "execution_count": 16,
   "id": "43f41a21",
   "metadata": {},
   "outputs": [],
   "source": [
    "d1 = [\"test\",\"train\"]\n",
    "d2 = [\"NORMAL\",\"PNEUMONIA\"]"
   ]
  },
  {
   "cell_type": "code",
   "execution_count": 18,
   "id": "a3df1511",
   "metadata": {},
   "outputs": [
    {
     "name": "stdout",
     "output_type": "stream",
     "text": [
      "D:\\Users\\Desktop\\Sem V\\DL\\DL-projects\\mini project\\chest_xray\\test\\NORMAL\n",
      "D:\\Users\\Desktop\\Sem V\\DL\\DL-projects\\mini project\\DL_Dataset\\test\\NORMAL\n",
      "Done!\n",
      "D:\\Users\\Desktop\\Sem V\\DL\\DL-projects\\mini project\\chest_xray\\test\\PNEUMONIA\n",
      "D:\\Users\\Desktop\\Sem V\\DL\\DL-projects\\mini project\\DL_Dataset\\test\\PNEUMONIA\n",
      "Done!\n",
      "D:\\Users\\Desktop\\Sem V\\DL\\DL-projects\\mini project\\chest_xray\\train\\NORMAL\n",
      "D:\\Users\\Desktop\\Sem V\\DL\\DL-projects\\mini project\\DL_Dataset\\train\\NORMAL\n",
      "Done!\n",
      "D:\\Users\\Desktop\\Sem V\\DL\\DL-projects\\mini project\\chest_xray\\train\\PNEUMONIA\n",
      "D:\\Users\\Desktop\\Sem V\\DL\\DL-projects\\mini project\\DL_Dataset\\train\\PNEUMONIA\n",
      "Done!\n"
     ]
    }
   ],
   "source": [
    "for i in range(2):\n",
    "    for j in range(2):\n",
    "        tt = d1[i]+\"\\\\\"+d2[j]\n",
    "        t1 = \"D:\\\\Users\\\\Desktop\\\\Sem V\\\\DL\\\\DL-projects\\\\mini project\\\\chest_xray\\\\\"+tt\n",
    "        t2 = \"D:\\\\Users\\\\Desktop\\\\Sem V\\\\DL\\\\DL-projects\\\\mini project\\\\DL_Dataset\\\\\"+tt\n",
    "        print(t1+\"\\n\"+t2)\n",
    "        for (k,image_file) in enumerate(glob.iglob(t1+'/*.jpeg')):\n",
    "            process(image_file, k,t2)\n",
    "        print(\"Done!\")"
   ]
  },
  {
   "cell_type": "markdown",
   "id": "bd3f6762",
   "metadata": {},
   "source": [
    "# Input Section"
   ]
  },
  {
   "cell_type": "code",
   "execution_count": 4,
   "id": "841d54a8",
   "metadata": {},
   "outputs": [],
   "source": [
    "batch_size = 32\n",
    "img_height = 180\n",
    "img_width = 180"
   ]
  },
  {
   "cell_type": "code",
   "execution_count": 5,
   "id": "ee0a00df",
   "metadata": {},
   "outputs": [],
   "source": [
    "data_dir = \"D:\\\\Users\\\\Desktop\\\\Sem V\\\\DL\\\\DL-projects\\\\mini project\\\\DL_Dataset\\\\train\"\n",
    "data_dir2= 'D:\\\\Users\\\\Desktop\\\\Sem V\\\\DL\\\\DL-projects\\\\mini project\\\\DL_Dataset\\\\test'"
   ]
  },
  {
   "cell_type": "code",
   "execution_count": 6,
   "id": "518b9a45",
   "metadata": {},
   "outputs": [
    {
     "name": "stdout",
     "output_type": "stream",
     "text": [
      "Found 1666 files belonging to 2 classes.\n",
      "Using 1333 files for training.\n",
      "\n",
      "Found 624 files belonging to 2 classes.\n",
      "Using 499 files for validation.\n"
     ]
    }
   ],
   "source": [
    "train_ds = tf.keras.utils.image_dataset_from_directory(\n",
    "  data_dir,\n",
    "  validation_split=0.2,\n",
    "  subset=\"training\",\n",
    "  color_mode='grayscale',\n",
    "  seed=123,\n",
    "  image_size=(img_height, img_width),\n",
    "  batch_size=batch_size)\n",
    "print()\n",
    "validation_ds = tf.keras.utils.image_dataset_from_directory(\n",
    "  data_dir2,\n",
    "  validation_split=0.8,\n",
    "  subset=\"validation\",\n",
    "  color_mode='grayscale',\n",
    "  seed=123,\n",
    "  image_size=(img_height, img_width),\n",
    "  batch_size=batch_size)"
   ]
  },
  {
   "cell_type": "code",
   "execution_count": 6,
   "id": "e8eeea7e",
   "metadata": {},
   "outputs": [
    {
     "name": "stdout",
     "output_type": "stream",
     "text": [
      "['NORMAL', 'PNEUMONIA']\n"
     ]
    }
   ],
   "source": [
    "class_names = train_ds.class_names\n",
    "print(class_names)"
   ]
  },
  {
   "cell_type": "code",
   "execution_count": null,
   "id": "1c90faf4",
   "metadata": {},
   "outputs": [],
   "source": [
    "import matplotlib.pyplot as plt\n",
    "\n",
    "plt.figure(figsize=(10, 10))\n",
    "for images, labels in train_ds.take(1):\n",
    "    for i in range(9):\n",
    "        ax = plt.subplot(3, 3, i + 1)\n",
    "        plt.imshow(images[i].numpy().astype(\"uint8\"))\n",
    "        plt.title(class_names[labels[i]])\n",
    "        plt.axis(\"off\")"
   ]
  },
  {
   "cell_type": "markdown",
   "metadata": {},
   "source": [
    "# Model Section"
   ]
  },
  {
   "cell_type": "code",
   "execution_count": 11,
   "metadata": {},
   "outputs": [],
   "source": [
    "early_stopping = EarlyStopping(monitor='val_accuracy', patience=4, restore_best_weights=True,mode=\"auto\")\n",
    "reduce_lr = ReduceLROnPlateau(monitor='val_loss', factor=0.2, patience=2, min_lr=0.00001)\n",
    "tb = TensorBoard(log_dir=r\"D:\\Users\\Desktop\\Sem V\\DL\\DL-projects\\mini project\\logs\", update_freq=1)"
   ]
  },
  {
   "cell_type": "code",
   "execution_count": 17,
   "id": "22912250",
   "metadata": {},
   "outputs": [
    {
     "name": "stdout",
     "output_type": "stream",
     "text": [
      "Model: \"sequential_3\"\n",
      "_________________________________________________________________\n",
      " Layer (type)                Output Shape              Param #   \n",
      "=================================================================\n",
      " conv2d_9 (Conv2D)           (None, 178, 178, 32)      320       \n",
      "                                                                 \n",
      " batch_normalization_9 (Bat  (None, 178, 178, 32)      128       \n",
      " chNormalization)                                                \n",
      "                                                                 \n",
      " max_pooling2d_9 (MaxPoolin  (None, 89, 89, 32)        0         \n",
      " g2D)                                                            \n",
      "                                                                 \n",
      " conv2d_10 (Conv2D)          (None, 87, 87, 64)        18496     \n",
      "                                                                 \n",
      " batch_normalization_10 (Ba  (None, 87, 87, 64)        256       \n",
      " tchNormalization)                                               \n",
      "                                                                 \n",
      " max_pooling2d_10 (MaxPooli  (None, 43, 43, 64)        0         \n",
      " ng2D)                                                           \n",
      "                                                                 \n",
      " conv2d_11 (Conv2D)          (None, 41, 41, 128)       73856     \n",
      "                                                                 \n",
      " batch_normalization_11 (Ba  (None, 41, 41, 128)       512       \n",
      " tchNormalization)                                               \n",
      "                                                                 \n",
      " max_pooling2d_11 (MaxPooli  (None, 20, 20, 128)       0         \n",
      " ng2D)                                                           \n",
      "                                                                 \n",
      " flatten_3 (Flatten)         (None, 51200)             0         \n",
      "                                                                 \n",
      " dense_6 (Dense)             (None, 128)               6553728   \n",
      "                                                                 \n",
      " dropout_3 (Dropout)         (None, 128)               0         \n",
      "                                                                 \n",
      " dense_7 (Dense)             (None, 1)                 129       \n",
      "                                                                 \n",
      "=================================================================\n",
      "Total params: 6647425 (25.36 MB)\n",
      "Trainable params: 6646977 (25.36 MB)\n",
      "Non-trainable params: 448 (1.75 KB)\n",
      "_________________________________________________________________\n"
     ]
    }
   ],
   "source": [
    "model = Sequential()\n",
    "model.add(Conv2D(32, (3, 3), input_shape=(180, 180, 1), activation='relu'))\n",
    "model.add(BatchNormalization())\n",
    "model.add(MaxPooling2D(pool_size=(2, 2)))\n",
    "\n",
    "model.add(Conv2D(64, (3, 3), activation='relu'))\n",
    "model.add(BatchNormalization())\n",
    "model.add(MaxPooling2D(pool_size=(2, 2)))\n",
    "\n",
    "model.add(Conv2D(128, (3, 3), activation='relu'))\n",
    "model.add(BatchNormalization())\n",
    "model.add(MaxPooling2D(pool_size=(2, 2)))\n",
    "\n",
    "model.add(Flatten())\n",
    "\n",
    "model.add(Dense(128, activation='relu',kernel_regularizer=regularizers.l2(0.01)))\n",
    "model.add(Dropout(0.5))\n",
    "model.add(Dense(1, activation='sigmoid'))\n",
    "model.summary()"
   ]
  },
  {
   "cell_type": "markdown",
   "id": "43b84da4",
   "metadata": {},
   "source": [
    "# Model Training"
   ]
  },
  {
   "cell_type": "code",
   "execution_count": 19,
   "id": "0c52bf95",
   "metadata": {},
   "outputs": [],
   "source": [
    "model.compile(optimizer=Adam(learning_rate=0.001), loss='binary_crossentropy', metrics=['accuracy'])"
   ]
  },
  {
   "cell_type": "code",
   "execution_count": 20,
   "id": "e5a39765",
   "metadata": {
    "collapsed": true
   },
   "outputs": [
    {
     "name": "stdout",
     "output_type": "stream",
     "text": [
      "Epoch 1/30\n"
     ]
    },
    {
     "name": "stdout",
     "output_type": "stream",
     "text": [
      "42/42 [==============================] - 48s 1s/step - loss: 5.5069 - accuracy: 0.8470 - val_loss: 30.1523 - val_accuracy: 0.6253 - lr: 0.0010\n",
      "Epoch 2/30\n",
      "42/42 [==============================] - 47s 1s/step - loss: 2.6605 - accuracy: 0.9220 - val_loss: 8.3505 - val_accuracy: 0.7295 - lr: 0.0010\n",
      "Epoch 3/30\n",
      "42/42 [==============================] - 48s 1s/step - loss: 1.8129 - accuracy: 0.9272 - val_loss: 4.0884 - val_accuracy: 0.7675 - lr: 0.0010\n",
      "Epoch 4/30\n",
      "42/42 [==============================] - 48s 1s/step - loss: 1.2511 - accuracy: 0.9400 - val_loss: 2.4925 - val_accuracy: 0.7756 - lr: 0.0010\n",
      "Epoch 5/30\n",
      "42/42 [==============================] - 48s 1s/step - loss: 0.9199 - accuracy: 0.9385 - val_loss: 2.2270 - val_accuracy: 0.7956 - lr: 0.0010\n",
      "Epoch 6/30\n",
      "42/42 [==============================] - 48s 1s/step - loss: 0.7607 - accuracy: 0.9310 - val_loss: 1.9103 - val_accuracy: 0.8036 - lr: 0.0010\n",
      "Epoch 7/30\n",
      "42/42 [==============================] - 48s 1s/step - loss: 0.5625 - accuracy: 0.9512 - val_loss: 2.6262 - val_accuracy: 0.7876 - lr: 0.0010\n",
      "Epoch 8/30\n",
      "42/42 [==============================] - 48s 1s/step - loss: 0.5392 - accuracy: 0.9505 - val_loss: 2.1101 - val_accuracy: 0.7495 - lr: 0.0010\n",
      "Epoch 9/30\n",
      "42/42 [==============================] - 49s 1s/step - loss: 0.4363 - accuracy: 0.9460 - val_loss: 1.8975 - val_accuracy: 0.7675 - lr: 5.0000e-04\n",
      "Epoch 10/30\n",
      "42/42 [==============================] - 49s 1s/step - loss: 0.3519 - accuracy: 0.9595 - val_loss: 2.5001 - val_accuracy: 0.6914 - lr: 5.0000e-04\n"
     ]
    }
   ],
   "source": [
    "history = model.fit(train_ds, epochs=30, validation_data=validation_ds,callbacks=[early_stopping,reduce_lr,tb])"
   ]
  },
  {
   "cell_type": "markdown",
   "metadata": {},
   "source": [
    "# Saving and Loading"
   ]
  },
  {
   "cell_type": "code",
   "execution_count": null,
   "id": "b02f30fb",
   "metadata": {},
   "outputs": [],
   "source": [
    "model.save('D:\\\\Users\\\\Desktop\\\\Sem V\\\\DL\\\\DL-projects\\\\mini project\\\\model\\\\pneumonia_detection_model.keras')"
   ]
  },
  {
   "cell_type": "code",
   "execution_count": 3,
   "metadata": {},
   "outputs": [],
   "source": [
    "model = tf.keras.models.load_model('D:\\\\Users\\\\Desktop\\\\Sem V\\\\DL\\\\DL-projects\\\\mini project\\\\model\\\\pneumonia_detection_model.keras')"
   ]
  },
  {
   "cell_type": "markdown",
   "metadata": {},
   "source": [
    "# Visualization"
   ]
  },
  {
   "cell_type": "code",
   "execution_count": 29,
   "id": "a68e7d54",
   "metadata": {},
   "outputs": [
    {
     "data": {
      "image/png": "[encoded data removed]",
      "text/plain": [
       "<Figure size 640x480 with 1 Axes>"
      ]
     },
     "metadata": {},
     "output_type": "display_data"
    }
   ],
   "source": [
    "plt.title(\"Accuracy vs Val Accuracy\")\n",
    "plt.xlabel('No of epochs')\n",
    "plt.ylabel('Score [0-1]')\n",
    "plt.plot(history.history['accuracy'])\n",
    "plt.plot(history.history['val_accuracy'])\n",
    "plt.show()"
   ]
  },
  {
   "cell_type": "code",
   "execution_count": 30,
   "id": "7a163d27",
   "metadata": {},
   "outputs": [
    {
     "data": {
      "image/png": "[encoded data removed]",
      "text/plain": [
       "<Figure size 640x480 with 1 Axes>"
      ]
     },
     "metadata": {},
     "output_type": "display_data"
    }
   ],
   "source": [
    "plt.title(\"Loss vs Val Loss\")\n",
    "plt.xlabel('No of epochs')\n",
    "plt.ylabel('Score [0-1]')\n",
    "plt.plot(history.history['loss'])\n",
    "plt.plot(history.history['val_loss'])\n",
    "plt.show()"
   ]
  },
  {
   "cell_type": "markdown",
   "id": "56c98e1b",
   "metadata": {},
   "source": [
    "# Testing"
   ]
  },
  {
   "cell_type": "code",
   "execution_count": 7,
   "id": "6a68ed5d",
   "metadata": {
    "scrolled": true
   },
   "outputs": [
    {
     "name": "stdout",
     "output_type": "stream",
     "text": [
      "16/16 [==============================] - 5s 217ms/step - loss: 1.6197 - accuracy: 0.8317\n",
      "Test accuracy = 0.8316633105278015\n",
      " Test loss    = 1.6196694374084473\n"
     ]
    }
   ],
   "source": [
    "test_loss, test_acc = model.evaluate(validation_ds)\n",
    "print(f'Test accuracy = {test_acc}\\n Test loss    = {test_loss}')"
   ]
  },
  {
   "cell_type": "code",
   "execution_count": 14,
   "metadata": {},
   "outputs": [],
   "source": [
    "def predict_img(img_path):\n",
    "    image = cv2.imread(img_path)\n",
    "    img = cv2.resize(image, (180, 180))\n",
    "    img = cv2.cvtColor(img, cv2.COLOR_BGR2GRAY)\n",
    "    img = np.expand_dims(img, axis=0)\n",
    "    p=model.predict(img)\n",
    "    if  p < 0.97:\n",
    "        print(\"Person is not affected with Pneumonia.\")\n",
    "    else:\n",
    "        print(\"Person is affected with Pneumonia.\")"
   ]
  },
  {
   "cell_type": "code",
   "execution_count": 13,
   "id": "1e7888ba",
   "metadata": {},
   "outputs": [
    {
     "name": "stdout",
     "output_type": "stream",
     "text": [
      "1/1 [==============================] - 0s 53ms/step\n",
      "Person is not affected with Pneumonia. <class 'numpy.ndarray'>\n"
     ]
    }
   ],
   "source": [
    "img_path = 'D:\\\\Users\\\\Desktop\\\\Sem V\\\\DL\\\\DL-projects\\\\mini project\\\\DL_Dataset\\\\test\\\\NORMAL\\\\imageresized_7.jpeg'\n",
    "predict_img(img_path)"
   ]
  },
  {
   "cell_type": "code",
   "execution_count": 24,
   "id": "b8f99cf7",
   "metadata": {},
   "outputs": [
    {
     "name": "stdout",
     "output_type": "stream",
     "text": [
      "1/1 [==============================] - 0s 37ms/step\n",
      "Person is affected with Pneumonia.\n"
     ]
    }
   ],
   "source": [
    "img_path = 'D:\\\\Users\\\\Desktop\\\\Sem V\\\\DL\\\\DL-projects\\\\mini project\\\\DL_Dataset\\\\test\\\\PNEUMONIA\\\\imageresized_7.jpeg'\n",
    "predict_img(img_path)"
   ]
  }
 ],
 "metadata": {
  "kernelspec": {
   "display_name": "Python 3 (ipykernel)",
   "language": "python",
   "name": "python3"
  },
  "language_info": {
   "codemirror_mode": {
    "name": "ipython",
    "version": 3
   },
   "file_extension": ".py",
   "mimetype": "text/x-python",
   "name": "python",
   "nbconvert_exporter": "python",
   "pygments_lexer": "ipython3",
   "version": "3.10.11"
  }
 },
 "nbformat": 4,
 "nbformat_minor": 5
}
